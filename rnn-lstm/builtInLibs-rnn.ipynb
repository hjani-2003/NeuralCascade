{
 "cells": [
  {
   "cell_type": "code",
   "execution_count": null,
   "metadata": {},
   "outputs": [],
   "source": [
    "# adapted and modified from https://www.kaggle.com/code/fareselmenshawii/rnn-from-scratch"
   ]
  },
  {
   "cell_type": "code",
   "execution_count": 1,
   "metadata": {},
   "outputs": [],
   "source": [
    "import os\n",
    "import numpy as np\n",
    "import scipy as sp\n",
    "import torch\n",
    "import torch.nn as nn\n",
    "import torch.nn.functional as F\n",
    "import matplotlib.pyplot as plt # for making figures\n",
    "from torch.utils.data import Dataset, DataLoader\n",
    "%matplotlib inline"
   ]
  },
  {
   "cell_type": "code",
   "execution_count": 2,
   "metadata": {},
   "outputs": [],
   "source": [
    "class CharDatasetOneHot(Dataset):\n",
    "    def __init__(self, text, seq_length):\n",
    "        self.chars = sorted(set(text))  # Unique characters (sorted for consistency)\n",
    "        self.char_to_idx = {ch: i for i, ch in enumerate(self.chars)}\n",
    "        self.idx_to_char = {i: ch for i, ch in enumerate(self.chars)}\n",
    "        self.vocab_size = len(self.chars)\n",
    "\n",
    "        self.data = [self.char_to_idx[ch] for ch in text]  # Convert text to indices\n",
    "        self.seq_length = seq_length\n",
    "\n",
    "    def __len__(self):\n",
    "        return len(self.data) - self.seq_length\n",
    "\n",
    "    def __getitem__(self, idx):\n",
    "        input_seq = self.data[idx:idx + self.seq_length]  # Input sequence\n",
    "        target_seq = self.data[idx + 1:idx + self.seq_length + 1]  # Target (shifted)\n",
    "\n",
    "        # Convert to one-hot encoding\n",
    "        input_one_hot = F.one_hot(torch.tensor(input_seq), num_classes=self.vocab_size).float()\n",
    "        \n",
    "        return input_one_hot, torch.tensor(target_seq)  # Targets remain as indices\n",
    "\n",
    "def get_one_hot_dataloader(file_path, seq_length, batch_size):\n",
    "    with open(file_path, 'r') as f:\n",
    "        text = f.read().lower()  # Read and preprocess text\n",
    "    \n",
    "    dataset = CharDatasetOneHot(text, seq_length)\n",
    "    dataloader = DataLoader(dataset, batch_size=batch_size, shuffle=True)\n",
    "    \n",
    "    return dataloader, dataset.vocab_size"
   ]
  },
  {
   "cell_type": "code",
   "execution_count": 3,
   "metadata": {},
   "outputs": [
    {
     "name": "stdout",
     "output_type": "stream",
     "text": [
      "Input batch shape: torch.Size([32, 25, 27])\n",
      "Target batch shape: torch.Size([32, 25])\n"
     ]
    }
   ],
   "source": [
    "file_path = \"names.txt\"  # Your text file\n",
    "seq_length = 25  # Length of input sequences\n",
    "batch_size = 32  # Batch size\n",
    "\n",
    "dataloader, vocab_size = get_one_hot_dataloader(file_path, seq_length, batch_size)\n",
    "\n",
    "for inputs, targets in dataloader:\n",
    "    print(\"Input batch shape:\", inputs.shape)   # (batch_size, seq_length)\n",
    "    print(\"Target batch shape:\", targets.shape) # (batch_size, seq_length)\n",
    "    break  # Stop after the first batch\n"
   ]
  },
  {
   "cell_type": "code",
   "execution_count": 4,
   "metadata": {},
   "outputs": [],
   "source": [
    "class RNNModel(nn.Module):\n",
    "\n",
    "    def __init__(self, input_size, hidden_size, output_size, num_layers=1):\n",
    "        super(RNNModel, self).__init__()\n",
    "        self.hidden_size = hidden_size\n",
    "        self.num_layers = num_layers\n",
    "        \n",
    "        # RNN Layer (Change to LSTM/GRU if needed)\n",
    "        self.rnn = nn.RNN(input_size, hidden_size, num_layers, batch_first=True)\n",
    "        \n",
    "        # Fully connected output layer\n",
    "        self.fc = nn.Linear(hidden_size, output_size)\n",
    "\n",
    "    def forward(self, x, h):\n",
    "        out, h = self.rnn(x, h)  # out: (batch, seq_len, hidden_size)\n",
    "        # out = self.fc(out[:, -1, :])  # Take the last output for classification\n",
    "        out = self.fc(out)  # Take the last output for classification\n",
    "        return out, h\n",
    "    \n",
    "    def init_hidden(self, batch_size):\n",
    "        return torch.zeros(self.num_layers, batch_size, self.hidden_size)"
   ]
  },
  {
   "cell_type": "code",
   "execution_count": 5,
   "metadata": {},
   "outputs": [],
   "source": [
    "vocab_size = 27\n",
    "input_size = vocab_size  # One-hot encoding size (same as vocab size)\n",
    "hidden_size = 128\n",
    "output_size = vocab_size  # Predict next character\n",
    "num_layers = 1\n",
    "\n",
    "model = RNNModel(input_size, hidden_size, output_size, num_layers)"
   ]
  },
  {
   "cell_type": "code",
   "execution_count": 6,
   "metadata": {},
   "outputs": [
    {
     "data": {
      "text/plain": [
       "RNNModel(\n",
       "  (rnn): RNN(27, 128, batch_first=True)\n",
       "  (fc): Linear(in_features=128, out_features=27, bias=True)\n",
       ")"
      ]
     },
     "execution_count": 6,
     "metadata": {},
     "output_type": "execute_result"
    }
   ],
   "source": [
    "model"
   ]
  },
  {
   "cell_type": "code",
   "execution_count": 7,
   "metadata": {},
   "outputs": [],
   "source": [
    "criterion = nn.CrossEntropyLoss()\n",
    "optimizer = torch.optim.Adam(model.parameters(), lr=0.001)"
   ]
  },
  {
   "cell_type": "code",
   "execution_count": 25,
   "metadata": {},
   "outputs": [
    {
     "name": "stdout",
     "output_type": "stream",
     "text": [
      "Epoch [1/2], Loss: 2.3514\n",
      "Epoch [2/2], Loss: 2.7799\n"
     ]
    }
   ],
   "source": [
    "num_epochs = 2\n",
    "batch_size = 8\n",
    "sequence_length = 1\n",
    "file_path = 'names.txt'\n",
    "\n",
    "for epoch in range(num_epochs):\n",
    "    dataloader, vocab_size = get_one_hot_dataloader(file_path, sequence_length, batch_size)\n",
    "    for inputs, targets in dataloader:  # Now using only the DataLoader# Assume you have a DataLoader\n",
    "        batch_size = inputs.shape[0]  # Get actual batch size from data\n",
    "        h = model.init_hidden(batch_size)  # Initialize hidden state\n",
    "        optimizer.zero_grad()\n",
    "        \n",
    "        inputs = inputs.to(torch.float32)  # Convert inputs to float32\n",
    "        targets = targets.long()  # Targets must be long for CrossEntropyLoss\n",
    "        \n",
    "        outputs, h = model(inputs, h)\n",
    "        outputs = outputs.reshape(-1, 27)  # Flatten to (batch_size * sequence_length, num_classes)\n",
    "        targets = targets.reshape(-1)      # Flatten to (batch_size * sequence_length)\n",
    "        h = h.detach()\n",
    "        \n",
    "        loss = criterion(outputs, targets)\n",
    "        \n",
    "        loss.backward()\n",
    "        optimizer.step()\n",
    "    \n",
    "    print(f\"Epoch [{epoch+1}/{num_epochs}], Loss: {loss.item():.4f}\")"
   ]
  },
  {
   "cell_type": "code",
   "execution_count": 26,
   "metadata": {},
   "outputs": [],
   "source": [
    "def generate_text(model, start_text, char_to_idx, idx_to_char, hidden_size, length=100):\n",
    "    model.eval()  # Set the model to evaluation mode\n",
    "    \n",
    "    generated_text = start_text  # Store generated sequence\n",
    "    input_seq = [char_to_idx[ch] for ch in start_text]  # Convert to indices\n",
    "    # print(input_seq)\n",
    "    h = model.init_hidden(1)  # Initialize hidden state for batch_size=1\n",
    "\n",
    "    for _ in range(length):\n",
    "        # Convert input to one-hot encoding (shape: (1, seq_len, vocab_size))\n",
    "        input_tensor = torch.tensor(input_seq).unsqueeze(0)  # Add batch dim\n",
    "        input_one_hot = F.one_hot(input_tensor, num_classes=len(char_to_idx)).float()\n",
    "\n",
    "        with torch.no_grad():  # No gradient computation needed\n",
    "            output, h = model(input_one_hot, h)\n",
    "\n",
    "        # Get the last time step output\n",
    "        output = output[:, -1, :]  # Shape: (1, vocab_size)\n",
    "        probabilities = torch.softmax(output, dim=-1)  # Convert to probabilities\n",
    "        \n",
    "        # Sample from the distribution\n",
    "        predicted_idx = torch.multinomial(probabilities, num_samples=1).item()\n",
    "        predicted_char = idx_to_char[predicted_idx]\n",
    "\n",
    "        generated_text += predicted_char  # Append predicted char\n",
    "        input_seq = input_seq[1:] + [predicted_idx]  # Update input sequence\n",
    "        # print('after: ', input_seq)\n",
    "\n",
    "    return generated_text\n"
   ]
  },
  {
   "cell_type": "code",
   "execution_count": 27,
   "metadata": {},
   "outputs": [
    {
     "name": "stdout",
     "output_type": "stream",
     "text": [
      "Generated Text:\n",
      " harexopy\n",
      "mala\n",
      "a\n",
      "rist\n",
      "kieaselerathyniny\n",
      "rys\n",
      "zen\n",
      "len\n",
      "umaymanah\n",
      "jaas\n",
      "yiahmol\n",
      "edh\n",
      "rexten\n",
      "hareote\n",
      "mukhy\n",
      "ohaksie\n",
      "eviy\n",
      "javel\n",
      "kato\n",
      "binea\n",
      "bmaozeeetzannttorpudlicy\n",
      "cas\n",
      "emulley\n",
      "japdreglyn\n",
      "mrcolan\n",
      "jan\n",
      "jaxlydphunix\n",
      "p\n"
     ]
    }
   ],
   "source": [
    "# Load the dataset to get char mappings\n",
    "_, dataset_vocab_size = get_one_hot_dataloader(file_path, sequence_length, batch_size)\n",
    "\n",
    "# Get char_to_idx and idx_to_char mappings from the dataset\n",
    "dataset = CharDatasetOneHot(open(file_path).read().lower(), sequence_length)\n",
    "char_to_idx = dataset.char_to_idx\n",
    "idx_to_char = dataset.idx_to_char\n",
    "\n",
    "# Generate text starting with \"a\"\n",
    "generated_text = generate_text(model, start_text=\"har\", \n",
    "                               char_to_idx=char_to_idx, \n",
    "                               idx_to_char=idx_to_char, \n",
    "                               hidden_size=hidden_size, \n",
    "                               length=200)\n",
    "\n",
    "print(\"Generated Text:\\n\", generated_text)"
   ]
  },
  {
   "cell_type": "code",
   "execution_count": null,
   "metadata": {},
   "outputs": [],
   "source": []
  }
 ],
 "metadata": {
  "kernelspec": {
   "display_name": "Python 3",
   "language": "python",
   "name": "python3"
  },
  "language_info": {
   "codemirror_mode": {
    "name": "ipython",
    "version": 3
   },
   "file_extension": ".py",
   "mimetype": "text/x-python",
   "name": "python",
   "nbconvert_exporter": "python",
   "pygments_lexer": "ipython3",
   "version": "3.12.1"
  }
 },
 "nbformat": 4,
 "nbformat_minor": 2
}
